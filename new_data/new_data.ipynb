{
 "cells": [
  {
   "cell_type": "code",
   "execution_count": 1,
   "id": "58dfdded-d14a-431a-9107-e6361ad0883c",
   "metadata": {},
   "outputs": [],
   "source": [
    "import pandas as pd\n",
    "import numpy as np\n",
    "import re\n",
    "import subprocess\n",
    "from pathlib import Path \n",
    "import io\n",
    "import dvc.api, dvc.repo"
   ]
  },
  {
   "cell_type": "code",
   "execution_count": 2,
   "id": "2974058f-5d66-4116-aacb-7a93fdfc268b",
   "metadata": {},
   "outputs": [
    {
     "data": {
      "text/html": [
       "<div>\n",
       "<style scoped>\n",
       "    .dataframe tbody tr th:only-of-type {\n",
       "        vertical-align: middle;\n",
       "    }\n",
       "\n",
       "    .dataframe tbody tr th {\n",
       "        vertical-align: top;\n",
       "    }\n",
       "\n",
       "    .dataframe thead th {\n",
       "        text-align: right;\n",
       "    }\n",
       "</style>\n",
       "<table border=\"1\" class=\"dataframe\">\n",
       "  <thead>\n",
       "    <tr style=\"text-align: right;\">\n",
       "      <th></th>\n",
       "      <th>App Name</th>\n",
       "      <th>App Id</th>\n",
       "      <th>Category</th>\n",
       "      <th>Rating</th>\n",
       "      <th>Rating Count</th>\n",
       "      <th>Installs</th>\n",
       "      <th>Minimum Installs</th>\n",
       "      <th>Maximum Installs</th>\n",
       "      <th>Free</th>\n",
       "      <th>Price</th>\n",
       "      <th>...</th>\n",
       "      <th>Developer Website</th>\n",
       "      <th>Developer Email</th>\n",
       "      <th>Released</th>\n",
       "      <th>Last Updated</th>\n",
       "      <th>Content Rating</th>\n",
       "      <th>Privacy Policy</th>\n",
       "      <th>Ad Supported</th>\n",
       "      <th>In App Purchases</th>\n",
       "      <th>Editors Choice</th>\n",
       "      <th>Scraped Time</th>\n",
       "    </tr>\n",
       "  </thead>\n",
       "  <tbody>\n",
       "    <tr>\n",
       "      <th>0</th>\n",
       "      <td>Gakondo</td>\n",
       "      <td>com.ishakwe.gakondo</td>\n",
       "      <td>Adventure</td>\n",
       "      <td>0.0</td>\n",
       "      <td>0.0</td>\n",
       "      <td>10+</td>\n",
       "      <td>10.0</td>\n",
       "      <td>15</td>\n",
       "      <td>True</td>\n",
       "      <td>0.0</td>\n",
       "      <td>...</td>\n",
       "      <td>https://beniyizibyose.tk/#/</td>\n",
       "      <td>jean21101999@gmail.com</td>\n",
       "      <td>Feb 26, 2020</td>\n",
       "      <td>Feb 26, 2020</td>\n",
       "      <td>Everyone</td>\n",
       "      <td>https://beniyizibyose.tk/projects/</td>\n",
       "      <td>False</td>\n",
       "      <td>False</td>\n",
       "      <td>False</td>\n",
       "      <td>2021-06-15 20:19:35</td>\n",
       "    </tr>\n",
       "    <tr>\n",
       "      <th>1</th>\n",
       "      <td>Ampere Battery Info</td>\n",
       "      <td>com.webserveis.batteryinfo</td>\n",
       "      <td>Tools</td>\n",
       "      <td>4.4</td>\n",
       "      <td>64.0</td>\n",
       "      <td>5,000+</td>\n",
       "      <td>5000.0</td>\n",
       "      <td>7662</td>\n",
       "      <td>True</td>\n",
       "      <td>0.0</td>\n",
       "      <td>...</td>\n",
       "      <td>https://webserveis.netlify.app/</td>\n",
       "      <td>webserveis@gmail.com</td>\n",
       "      <td>May 21, 2020</td>\n",
       "      <td>May 06, 2021</td>\n",
       "      <td>Everyone</td>\n",
       "      <td>https://dev4phones.wordpress.com/licencia-de-uso/</td>\n",
       "      <td>True</td>\n",
       "      <td>False</td>\n",
       "      <td>False</td>\n",
       "      <td>2021-06-15 20:19:35</td>\n",
       "    </tr>\n",
       "    <tr>\n",
       "      <th>2</th>\n",
       "      <td>Vibook</td>\n",
       "      <td>com.doantiepvien.crm</td>\n",
       "      <td>Productivity</td>\n",
       "      <td>0.0</td>\n",
       "      <td>0.0</td>\n",
       "      <td>50+</td>\n",
       "      <td>50.0</td>\n",
       "      <td>58</td>\n",
       "      <td>True</td>\n",
       "      <td>0.0</td>\n",
       "      <td>...</td>\n",
       "      <td>NaN</td>\n",
       "      <td>vnacrewit@gmail.com</td>\n",
       "      <td>Aug 9, 2019</td>\n",
       "      <td>Aug 19, 2019</td>\n",
       "      <td>Everyone</td>\n",
       "      <td>https://www.vietnamairlines.com/vn/en/terms-an...</td>\n",
       "      <td>False</td>\n",
       "      <td>False</td>\n",
       "      <td>False</td>\n",
       "      <td>2021-06-15 20:19:35</td>\n",
       "    </tr>\n",
       "    <tr>\n",
       "      <th>3</th>\n",
       "      <td>Smart City Trichy Public Service Vehicles 17UC...</td>\n",
       "      <td>cst.stJoseph.ug17ucs548</td>\n",
       "      <td>Communication</td>\n",
       "      <td>5.0</td>\n",
       "      <td>5.0</td>\n",
       "      <td>10+</td>\n",
       "      <td>10.0</td>\n",
       "      <td>19</td>\n",
       "      <td>True</td>\n",
       "      <td>0.0</td>\n",
       "      <td>...</td>\n",
       "      <td>http://www.climatesmarttech.com/</td>\n",
       "      <td>climatesmarttech2@gmail.com</td>\n",
       "      <td>Sep 10, 2018</td>\n",
       "      <td>Oct 13, 2018</td>\n",
       "      <td>Everyone</td>\n",
       "      <td>NaN</td>\n",
       "      <td>True</td>\n",
       "      <td>False</td>\n",
       "      <td>False</td>\n",
       "      <td>2021-06-15 20:19:35</td>\n",
       "    </tr>\n",
       "    <tr>\n",
       "      <th>4</th>\n",
       "      <td>GROW.me</td>\n",
       "      <td>com.horodyski.grower</td>\n",
       "      <td>Tools</td>\n",
       "      <td>0.0</td>\n",
       "      <td>0.0</td>\n",
       "      <td>100+</td>\n",
       "      <td>100.0</td>\n",
       "      <td>478</td>\n",
       "      <td>True</td>\n",
       "      <td>0.0</td>\n",
       "      <td>...</td>\n",
       "      <td>http://www.horodyski.com.pl</td>\n",
       "      <td>rmilekhorodyski@gmail.com</td>\n",
       "      <td>Feb 21, 2020</td>\n",
       "      <td>Nov 12, 2018</td>\n",
       "      <td>Everyone</td>\n",
       "      <td>http://www.horodyski.com.pl</td>\n",
       "      <td>False</td>\n",
       "      <td>False</td>\n",
       "      <td>False</td>\n",
       "      <td>2021-06-15 20:19:35</td>\n",
       "    </tr>\n",
       "  </tbody>\n",
       "</table>\n",
       "<p>5 rows × 24 columns</p>\n",
       "</div>"
      ],
      "text/plain": [
       "                                            App Name  \\\n",
       "0                                            Gakondo   \n",
       "1                                Ampere Battery Info   \n",
       "2                                             Vibook   \n",
       "3  Smart City Trichy Public Service Vehicles 17UC...   \n",
       "4                                            GROW.me   \n",
       "\n",
       "                       App Id       Category  Rating  Rating Count Installs  \\\n",
       "0         com.ishakwe.gakondo      Adventure     0.0           0.0      10+   \n",
       "1  com.webserveis.batteryinfo          Tools     4.4          64.0   5,000+   \n",
       "2        com.doantiepvien.crm   Productivity     0.0           0.0      50+   \n",
       "3     cst.stJoseph.ug17ucs548  Communication     5.0           5.0      10+   \n",
       "4        com.horodyski.grower          Tools     0.0           0.0     100+   \n",
       "\n",
       "   Minimum Installs  Maximum Installs  Free  Price  ...  \\\n",
       "0              10.0                15  True    0.0  ...   \n",
       "1            5000.0              7662  True    0.0  ...   \n",
       "2              50.0                58  True    0.0  ...   \n",
       "3              10.0                19  True    0.0  ...   \n",
       "4             100.0               478  True    0.0  ...   \n",
       "\n",
       "                  Developer Website              Developer Email  \\\n",
       "0       https://beniyizibyose.tk/#/       jean21101999@gmail.com   \n",
       "1   https://webserveis.netlify.app/         webserveis@gmail.com   \n",
       "2                               NaN          vnacrewit@gmail.com   \n",
       "3  http://www.climatesmarttech.com/  climatesmarttech2@gmail.com   \n",
       "4       http://www.horodyski.com.pl    rmilekhorodyski@gmail.com   \n",
       "\n",
       "       Released  Last Updated Content Rating  \\\n",
       "0  Feb 26, 2020  Feb 26, 2020       Everyone   \n",
       "1  May 21, 2020  May 06, 2021       Everyone   \n",
       "2   Aug 9, 2019  Aug 19, 2019       Everyone   \n",
       "3  Sep 10, 2018  Oct 13, 2018       Everyone   \n",
       "4  Feb 21, 2020  Nov 12, 2018       Everyone   \n",
       "\n",
       "                                      Privacy Policy Ad Supported  \\\n",
       "0                 https://beniyizibyose.tk/projects/        False   \n",
       "1  https://dev4phones.wordpress.com/licencia-de-uso/         True   \n",
       "2  https://www.vietnamairlines.com/vn/en/terms-an...        False   \n",
       "3                                                NaN         True   \n",
       "4                        http://www.horodyski.com.pl        False   \n",
       "\n",
       "  In App Purchases Editors Choice         Scraped Time  \n",
       "0            False          False  2021-06-15 20:19:35  \n",
       "1            False          False  2021-06-15 20:19:35  \n",
       "2            False          False  2021-06-15 20:19:35  \n",
       "3            False          False  2021-06-15 20:19:35  \n",
       "4            False          False  2021-06-15 20:19:35  \n",
       "\n",
       "[5 rows x 24 columns]"
      ]
     },
     "execution_count": 2,
     "metadata": {},
     "output_type": "execute_result"
    }
   ],
   "source": [
    "df = pd.read_csv(\"Google-Playstore.csv\")\n",
    "df.head()"
   ]
  },
  {
   "cell_type": "code",
   "execution_count": 3,
   "id": "2f3e091c-3bb0-46af-9250-d0674db44b36",
   "metadata": {},
   "outputs": [
    {
     "data": {
      "text/plain": [
       "(2312944, 24)"
      ]
     },
     "execution_count": 3,
     "metadata": {},
     "output_type": "execute_result"
    }
   ],
   "source": [
    "df.shape"
   ]
  },
  {
   "cell_type": "code",
   "execution_count": 4,
   "id": "5c97f93e-a8dc-4603-8d34-b2cf9030640d",
   "metadata": {},
   "outputs": [
    {
     "data": {
      "text/plain": [
       "Index(['App Name', 'App Id', 'Category', 'Rating', 'Rating Count', 'Installs',\n",
       "       'Minimum Installs', 'Maximum Installs', 'Free', 'Price', 'Currency',\n",
       "       'Size', 'Minimum Android', 'Developer Id', 'Developer Website',\n",
       "       'Developer Email', 'Released', 'Last Updated', 'Content Rating',\n",
       "       'Privacy Policy', 'Ad Supported', 'In App Purchases', 'Editors Choice',\n",
       "       'Scraped Time'],\n",
       "      dtype='object')"
      ]
     },
     "execution_count": 4,
     "metadata": {},
     "output_type": "execute_result"
    }
   ],
   "source": [
    "df.columns"
   ]
  },
  {
   "cell_type": "code",
   "execution_count": 5,
   "id": "d15fe8fd-d07a-4fa4-b0f5-5f95ed829064",
   "metadata": {},
   "outputs": [
    {
     "name": "stdout",
     "output_type": "stream",
     "text": [
      "<class 'pandas.core.frame.DataFrame'>\n",
      "RangeIndex: 2312944 entries, 0 to 2312943\n",
      "Data columns (total 24 columns):\n",
      " #   Column             Dtype  \n",
      "---  ------             -----  \n",
      " 0   App Name           object \n",
      " 1   App Id             object \n",
      " 2   Category           object \n",
      " 3   Rating             float64\n",
      " 4   Rating Count       float64\n",
      " 5   Installs           object \n",
      " 6   Minimum Installs   float64\n",
      " 7   Maximum Installs   int64  \n",
      " 8   Free               bool   \n",
      " 9   Price              float64\n",
      " 10  Currency           object \n",
      " 11  Size               object \n",
      " 12  Minimum Android    object \n",
      " 13  Developer Id       object \n",
      " 14  Developer Website  object \n",
      " 15  Developer Email    object \n",
      " 16  Released           object \n",
      " 17  Last Updated       object \n",
      " 18  Content Rating     object \n",
      " 19  Privacy Policy     object \n",
      " 20  Ad Supported       bool   \n",
      " 21  In App Purchases   bool   \n",
      " 22  Editors Choice     bool   \n",
      " 23  Scraped Time       object \n",
      "dtypes: bool(4), float64(4), int64(1), object(15)\n",
      "memory usage: 361.8+ MB\n"
     ]
    }
   ],
   "source": [
    "df.info()"
   ]
  },
  {
   "cell_type": "code",
   "execution_count": 6,
   "id": "4bfdb0c5-d422-4d49-a6af-0afbb7ce0360",
   "metadata": {},
   "outputs": [
    {
     "data": {
      "text/plain": [
       "2312944"
      ]
     },
     "execution_count": 6,
     "metadata": {},
     "output_type": "execute_result"
    }
   ],
   "source": [
    "len(df['App Id'].unique())"
   ]
  },
  {
   "cell_type": "code",
   "execution_count": 7,
   "id": "b24b726f-2645-4edd-a77f-84a1b84cd3df",
   "metadata": {},
   "outputs": [
    {
     "data": {
      "text/html": [
       "<div>\n",
       "<style scoped>\n",
       "    .dataframe tbody tr th:only-of-type {\n",
       "        vertical-align: middle;\n",
       "    }\n",
       "\n",
       "    .dataframe tbody tr th {\n",
       "        vertical-align: top;\n",
       "    }\n",
       "\n",
       "    .dataframe thead th {\n",
       "        text-align: right;\n",
       "    }\n",
       "</style>\n",
       "<table border=\"1\" class=\"dataframe\">\n",
       "  <thead>\n",
       "    <tr style=\"text-align: right;\">\n",
       "      <th></th>\n",
       "      <th>Rating</th>\n",
       "      <th>Rating Count</th>\n",
       "      <th>Minimum Installs</th>\n",
       "      <th>Maximum Installs</th>\n",
       "      <th>Price</th>\n",
       "    </tr>\n",
       "  </thead>\n",
       "  <tbody>\n",
       "    <tr>\n",
       "      <th>count</th>\n",
       "      <td>2.290061e+06</td>\n",
       "      <td>2.290061e+06</td>\n",
       "      <td>2.312837e+06</td>\n",
       "      <td>2.312944e+06</td>\n",
       "      <td>2.312944e+06</td>\n",
       "    </tr>\n",
       "    <tr>\n",
       "      <th>mean</th>\n",
       "      <td>2.203152e+00</td>\n",
       "      <td>2.864839e+03</td>\n",
       "      <td>1.834452e+05</td>\n",
       "      <td>3.202017e+05</td>\n",
       "      <td>1.034992e-01</td>\n",
       "    </tr>\n",
       "    <tr>\n",
       "      <th>std</th>\n",
       "      <td>2.106223e+00</td>\n",
       "      <td>2.121626e+05</td>\n",
       "      <td>1.513144e+07</td>\n",
       "      <td>2.355495e+07</td>\n",
       "      <td>2.633127e+00</td>\n",
       "    </tr>\n",
       "    <tr>\n",
       "      <th>min</th>\n",
       "      <td>0.000000e+00</td>\n",
       "      <td>0.000000e+00</td>\n",
       "      <td>0.000000e+00</td>\n",
       "      <td>0.000000e+00</td>\n",
       "      <td>0.000000e+00</td>\n",
       "    </tr>\n",
       "    <tr>\n",
       "      <th>25%</th>\n",
       "      <td>0.000000e+00</td>\n",
       "      <td>0.000000e+00</td>\n",
       "      <td>5.000000e+01</td>\n",
       "      <td>8.400000e+01</td>\n",
       "      <td>0.000000e+00</td>\n",
       "    </tr>\n",
       "    <tr>\n",
       "      <th>50%</th>\n",
       "      <td>2.900000e+00</td>\n",
       "      <td>6.000000e+00</td>\n",
       "      <td>5.000000e+02</td>\n",
       "      <td>6.950000e+02</td>\n",
       "      <td>0.000000e+00</td>\n",
       "    </tr>\n",
       "    <tr>\n",
       "      <th>75%</th>\n",
       "      <td>4.300000e+00</td>\n",
       "      <td>4.200000e+01</td>\n",
       "      <td>5.000000e+03</td>\n",
       "      <td>7.354000e+03</td>\n",
       "      <td>0.000000e+00</td>\n",
       "    </tr>\n",
       "    <tr>\n",
       "      <th>max</th>\n",
       "      <td>5.000000e+00</td>\n",
       "      <td>1.385576e+08</td>\n",
       "      <td>1.000000e+10</td>\n",
       "      <td>1.205763e+10</td>\n",
       "      <td>4.000000e+02</td>\n",
       "    </tr>\n",
       "  </tbody>\n",
       "</table>\n",
       "</div>"
      ],
      "text/plain": [
       "             Rating  Rating Count  Minimum Installs  Maximum Installs  \\\n",
       "count  2.290061e+06  2.290061e+06      2.312837e+06      2.312944e+06   \n",
       "mean   2.203152e+00  2.864839e+03      1.834452e+05      3.202017e+05   \n",
       "std    2.106223e+00  2.121626e+05      1.513144e+07      2.355495e+07   \n",
       "min    0.000000e+00  0.000000e+00      0.000000e+00      0.000000e+00   \n",
       "25%    0.000000e+00  0.000000e+00      5.000000e+01      8.400000e+01   \n",
       "50%    2.900000e+00  6.000000e+00      5.000000e+02      6.950000e+02   \n",
       "75%    4.300000e+00  4.200000e+01      5.000000e+03      7.354000e+03   \n",
       "max    5.000000e+00  1.385576e+08      1.000000e+10      1.205763e+10   \n",
       "\n",
       "              Price  \n",
       "count  2.312944e+06  \n",
       "mean   1.034992e-01  \n",
       "std    2.633127e+00  \n",
       "min    0.000000e+00  \n",
       "25%    0.000000e+00  \n",
       "50%    0.000000e+00  \n",
       "75%    0.000000e+00  \n",
       "max    4.000000e+02  "
      ]
     },
     "execution_count": 7,
     "metadata": {},
     "output_type": "execute_result"
    }
   ],
   "source": [
    "df.describe()"
   ]
  },
  {
   "cell_type": "markdown",
   "id": "31c94d53-8fd8-4bae-9780-e6f8b74bdf88",
   "metadata": {},
   "source": [
    "### Currency"
   ]
  },
  {
   "cell_type": "code",
   "execution_count": 8,
   "id": "414f1d55-20f2-424d-adc4-9e0a25cbb396",
   "metadata": {},
   "outputs": [
    {
     "data": {
      "text/plain": [
       "Currency\n",
       "USD    2311548\n",
       "XXX       1236\n",
       "EUR          6\n",
       "INR          5\n",
       "GBP          3\n",
       "CAD          2\n",
       "VND          1\n",
       "BRL          1\n",
       "KRW          1\n",
       "TRY          1\n",
       "RUB          1\n",
       "SGD          1\n",
       "AUD          1\n",
       "PKR          1\n",
       "ZAR          1\n",
       "Name: count, dtype: int64"
      ]
     },
     "execution_count": 8,
     "metadata": {},
     "output_type": "execute_result"
    }
   ],
   "source": [
    "df['Currency'].value_counts()"
   ]
  },
  {
   "cell_type": "code",
   "execution_count": 9,
   "id": "31c7cd81-995e-4a5a-8b97-fc564a0e4cd0",
   "metadata": {},
   "outputs": [],
   "source": [
    "df.drop(columns=['Installs', 'Minimum Installs', 'Currency', 'Developer Id', 'Developer Website', 'Developer Email',\n",
    "                 'Privacy Policy', 'Scraped Time'], axis=1, inplace=True)"
   ]
  },
  {
   "cell_type": "code",
   "execution_count": 10,
   "id": "a78ae1a4-e70e-41ec-be82-ffea25a53b21",
   "metadata": {},
   "outputs": [
    {
     "data": {
      "text/html": [
       "<div>\n",
       "<style scoped>\n",
       "    .dataframe tbody tr th:only-of-type {\n",
       "        vertical-align: middle;\n",
       "    }\n",
       "\n",
       "    .dataframe tbody tr th {\n",
       "        vertical-align: top;\n",
       "    }\n",
       "\n",
       "    .dataframe thead th {\n",
       "        text-align: right;\n",
       "    }\n",
       "</style>\n",
       "<table border=\"1\" class=\"dataframe\">\n",
       "  <thead>\n",
       "    <tr style=\"text-align: right;\">\n",
       "      <th></th>\n",
       "      <th>App Name</th>\n",
       "      <th>App Id</th>\n",
       "      <th>Category</th>\n",
       "      <th>Rating</th>\n",
       "      <th>Rating Count</th>\n",
       "      <th>Maximum Installs</th>\n",
       "      <th>Free</th>\n",
       "      <th>Price</th>\n",
       "      <th>Size</th>\n",
       "      <th>Minimum Android</th>\n",
       "      <th>Released</th>\n",
       "      <th>Last Updated</th>\n",
       "      <th>Content Rating</th>\n",
       "      <th>Ad Supported</th>\n",
       "      <th>In App Purchases</th>\n",
       "      <th>Editors Choice</th>\n",
       "    </tr>\n",
       "  </thead>\n",
       "  <tbody>\n",
       "    <tr>\n",
       "      <th>0</th>\n",
       "      <td>Gakondo</td>\n",
       "      <td>com.ishakwe.gakondo</td>\n",
       "      <td>Adventure</td>\n",
       "      <td>0.0</td>\n",
       "      <td>0.0</td>\n",
       "      <td>15</td>\n",
       "      <td>True</td>\n",
       "      <td>0.0</td>\n",
       "      <td>10M</td>\n",
       "      <td>7.1 and up</td>\n",
       "      <td>Feb 26, 2020</td>\n",
       "      <td>Feb 26, 2020</td>\n",
       "      <td>Everyone</td>\n",
       "      <td>False</td>\n",
       "      <td>False</td>\n",
       "      <td>False</td>\n",
       "    </tr>\n",
       "    <tr>\n",
       "      <th>1</th>\n",
       "      <td>Ampere Battery Info</td>\n",
       "      <td>com.webserveis.batteryinfo</td>\n",
       "      <td>Tools</td>\n",
       "      <td>4.4</td>\n",
       "      <td>64.0</td>\n",
       "      <td>7662</td>\n",
       "      <td>True</td>\n",
       "      <td>0.0</td>\n",
       "      <td>2.9M</td>\n",
       "      <td>5.0 and up</td>\n",
       "      <td>May 21, 2020</td>\n",
       "      <td>May 06, 2021</td>\n",
       "      <td>Everyone</td>\n",
       "      <td>True</td>\n",
       "      <td>False</td>\n",
       "      <td>False</td>\n",
       "    </tr>\n",
       "    <tr>\n",
       "      <th>2</th>\n",
       "      <td>Vibook</td>\n",
       "      <td>com.doantiepvien.crm</td>\n",
       "      <td>Productivity</td>\n",
       "      <td>0.0</td>\n",
       "      <td>0.0</td>\n",
       "      <td>58</td>\n",
       "      <td>True</td>\n",
       "      <td>0.0</td>\n",
       "      <td>3.7M</td>\n",
       "      <td>4.0.3 and up</td>\n",
       "      <td>Aug 9, 2019</td>\n",
       "      <td>Aug 19, 2019</td>\n",
       "      <td>Everyone</td>\n",
       "      <td>False</td>\n",
       "      <td>False</td>\n",
       "      <td>False</td>\n",
       "    </tr>\n",
       "    <tr>\n",
       "      <th>3</th>\n",
       "      <td>Smart City Trichy Public Service Vehicles 17UC...</td>\n",
       "      <td>cst.stJoseph.ug17ucs548</td>\n",
       "      <td>Communication</td>\n",
       "      <td>5.0</td>\n",
       "      <td>5.0</td>\n",
       "      <td>19</td>\n",
       "      <td>True</td>\n",
       "      <td>0.0</td>\n",
       "      <td>1.8M</td>\n",
       "      <td>4.0.3 and up</td>\n",
       "      <td>Sep 10, 2018</td>\n",
       "      <td>Oct 13, 2018</td>\n",
       "      <td>Everyone</td>\n",
       "      <td>True</td>\n",
       "      <td>False</td>\n",
       "      <td>False</td>\n",
       "    </tr>\n",
       "    <tr>\n",
       "      <th>4</th>\n",
       "      <td>GROW.me</td>\n",
       "      <td>com.horodyski.grower</td>\n",
       "      <td>Tools</td>\n",
       "      <td>0.0</td>\n",
       "      <td>0.0</td>\n",
       "      <td>478</td>\n",
       "      <td>True</td>\n",
       "      <td>0.0</td>\n",
       "      <td>6.2M</td>\n",
       "      <td>4.1 and up</td>\n",
       "      <td>Feb 21, 2020</td>\n",
       "      <td>Nov 12, 2018</td>\n",
       "      <td>Everyone</td>\n",
       "      <td>False</td>\n",
       "      <td>False</td>\n",
       "      <td>False</td>\n",
       "    </tr>\n",
       "  </tbody>\n",
       "</table>\n",
       "</div>"
      ],
      "text/plain": [
       "                                            App Name  \\\n",
       "0                                            Gakondo   \n",
       "1                                Ampere Battery Info   \n",
       "2                                             Vibook   \n",
       "3  Smart City Trichy Public Service Vehicles 17UC...   \n",
       "4                                            GROW.me   \n",
       "\n",
       "                       App Id       Category  Rating  Rating Count  \\\n",
       "0         com.ishakwe.gakondo      Adventure     0.0           0.0   \n",
       "1  com.webserveis.batteryinfo          Tools     4.4          64.0   \n",
       "2        com.doantiepvien.crm   Productivity     0.0           0.0   \n",
       "3     cst.stJoseph.ug17ucs548  Communication     5.0           5.0   \n",
       "4        com.horodyski.grower          Tools     0.0           0.0   \n",
       "\n",
       "   Maximum Installs  Free  Price  Size Minimum Android      Released  \\\n",
       "0                15  True    0.0   10M      7.1 and up  Feb 26, 2020   \n",
       "1              7662  True    0.0  2.9M      5.0 and up  May 21, 2020   \n",
       "2                58  True    0.0  3.7M    4.0.3 and up   Aug 9, 2019   \n",
       "3                19  True    0.0  1.8M    4.0.3 and up  Sep 10, 2018   \n",
       "4               478  True    0.0  6.2M      4.1 and up  Feb 21, 2020   \n",
       "\n",
       "   Last Updated Content Rating  Ad Supported  In App Purchases  Editors Choice  \n",
       "0  Feb 26, 2020       Everyone         False             False           False  \n",
       "1  May 06, 2021       Everyone          True             False           False  \n",
       "2  Aug 19, 2019       Everyone         False             False           False  \n",
       "3  Oct 13, 2018       Everyone          True             False           False  \n",
       "4  Nov 12, 2018       Everyone         False             False           False  "
      ]
     },
     "execution_count": 10,
     "metadata": {},
     "output_type": "execute_result"
    }
   ],
   "source": [
    "df.head()"
   ]
  },
  {
   "cell_type": "markdown",
   "id": "4779f472-57b1-49e9-81ba-761c62388124",
   "metadata": {},
   "source": [
    "## Minimum android"
   ]
  },
  {
   "cell_type": "code",
   "execution_count": 11,
   "id": "300f57dd-a246-4ff2-8d27-0c0cb6cd5a93",
   "metadata": {},
   "outputs": [
    {
     "data": {
      "text/plain": [
       "Minimum Android\n",
       "4.1 and up      604465\n",
       "5.0 and up      396998\n",
       "4.4 and up      390311\n",
       "4.0.3 and up    180482\n",
       "4.0 and up      153441\n",
       "                 ...  \n",
       "2.3 - 3.2            1\n",
       "6.0 - 7.1.1          1\n",
       "2.3 - 8.0            1\n",
       "3.0 - 7.1.1          1\n",
       "2.3.3 - 6.0          1\n",
       "Name: count, Length: 154, dtype: int64"
      ]
     },
     "execution_count": 11,
     "metadata": {},
     "output_type": "execute_result"
    }
   ],
   "source": [
    "df['Minimum Android'].value_counts()"
   ]
  },
  {
   "cell_type": "code",
   "execution_count": 12,
   "id": "ce51b971-b697-483d-a20d-75ad83c37c0b",
   "metadata": {},
   "outputs": [],
   "source": [
    "df.drop(columns='Minimum Android', axis=1, inplace=True)"
   ]
  },
  {
   "cell_type": "markdown",
   "id": "12cf5e84-fb0d-4182-8a62-faedf712263b",
   "metadata": {},
   "source": [
    "### Size"
   ]
  },
  {
   "cell_type": "code",
   "execution_count": 13,
   "id": "9ca61b96-ccd1-4294-9290-66cf03a2e479",
   "metadata": {},
   "outputs": [
    {
     "data": {
      "text/plain": [
       "Size\n",
       "Varies with device    74777\n",
       "11M                   62157\n",
       "12M                   56080\n",
       "13M                   48034\n",
       "14M                   45211\n",
       "                      ...  \n",
       "8.7k                      1\n",
       "784M                      1\n",
       "385M                      1\n",
       "7.6k                      1\n",
       "512M                      1\n",
       "Name: count, Length: 1657, dtype: int64"
      ]
     },
     "execution_count": 13,
     "metadata": {},
     "output_type": "execute_result"
    }
   ],
   "source": [
    "df['Size'].value_counts()"
   ]
  },
  {
   "cell_type": "code",
   "execution_count": 14,
   "id": "02d21809-b567-4c88-864e-473a28f4afa2",
   "metadata": {},
   "outputs": [],
   "source": [
    "def convert_to_megabytes(size):\n",
    "    \"\"\"Converts a size string from KB to MB\"\"\"\n",
    "    # Ensure the size is a string\n",
    "    size_str = str(size)\n",
    "\n",
    "    if size_str.endswith('k'):\n",
    "        # Remove the 'k' and commas, then convert to float\n",
    "        size_in_kb = float(size_str[:-1].replace(',', ''))\n",
    "        # Convert to MB by dividing by 1024\n",
    "        size_in_mb = size_in_kb / 1024\n",
    "        return f\"{size_in_mb:.2f}M\"  # Format to 2 decimal places and add 'M'\n",
    "    else:\n",
    "        return size_str.replace(',', '')\n",
    "\n",
    "df['Size'] = df['Size'].apply(convert_to_megabytes)"
   ]
  },
  {
   "cell_type": "code",
   "execution_count": 15,
   "id": "5e53a78f-48dc-45d1-aaee-bfa629189cea",
   "metadata": {},
   "outputs": [
    {
     "data": {
      "text/plain": [
       "Size\n",
       "Varies with device    74777\n",
       "11M                   62157\n",
       "12M                   56080\n",
       "13M                   48034\n",
       "14M                   45211\n",
       "                      ...  \n",
       "347M                      1\n",
       "606M                      1\n",
       "412M                      1\n",
       "940M                      1\n",
       "512M                      1\n",
       "Name: count, Length: 709, dtype: int64"
      ]
     },
     "execution_count": 15,
     "metadata": {},
     "output_type": "execute_result"
    }
   ],
   "source": [
    "df['Size'].value_counts()"
   ]
  },
  {
   "cell_type": "code",
   "execution_count": 16,
   "id": "d9c79bde-a764-4110-a668-127df73eee9c",
   "metadata": {},
   "outputs": [
    {
     "name": "stdout",
     "output_type": "stream",
     "text": [
      "Category\n",
      "Action                     866.0\n",
      "Adventure                  804.7\n",
      "Arcade                     431.0\n",
      "Art & Design               477.7\n",
      "Auto & Vehicles            542.0\n",
      "Beauty                     229.3\n",
      "Board                      269.3\n",
      "Books & Reference          987.3\n",
      "Business                   443.7\n",
      "Card                       461.7\n",
      "Casino                     206.7\n",
      "Casual                     300.3\n",
      "Comics                     166.7\n",
      "Communication              530.7\n",
      "Dating                     229.3\n",
      "Education                  630.0\n",
      "Educational                541.7\n",
      "Entertainment              795.3\n",
      "Events                     362.7\n",
      "Finance                    362.7\n",
      "Food & Drink               276.3\n",
      "Health & Fitness           589.3\n",
      "House & Home               387.0\n",
      "Libraries & Demo           199.0\n",
      "Lifestyle                  463.7\n",
      "Maps & Navigation          343.7\n",
      "Medical                    663.7\n",
      "Music                      550.7\n",
      "Music & Audio              323.7\n",
      "News & Magazines           184.7\n",
      "Parenting                  321.3\n",
      "Personalization            270.7\n",
      "Photography                493.3\n",
      "Productivity               590.3\n",
      "Puzzle                     430.0\n",
      "Racing                     499.3\n",
      "Role Playing               914.7\n",
      "Shopping                   272.7\n",
      "Simulation                 683.7\n",
      "Social                     417.3\n",
      "Sports                     571.7\n",
      "Strategy                   755.0\n",
      "Tools                      482.7\n",
      "Travel & Local             532.0\n",
      "Trivia                     303.3\n",
      "Video Players & Editors    305.3\n",
      "Weather                    146.0\n",
      "Word                       200.3\n",
      "Name: Size_num, dtype: float64\n"
     ]
    }
   ],
   "source": [
    "def convert_size(size):\n",
    "    if 'M' in size:\n",
    "        return float(size.replace('M', ''))\n",
    "    elif 'k' in size:\n",
    "        return float(size.replace('k', '')) / 1024\n",
    "    return np.nan\n",
    "df['Size_num'] = df['Size'].apply(lambda x: convert_size(x) if x != 'Varies with device' else np.nan)\n",
    "# Calculate average size per category\n",
    "df_sorted = df.sort_values(by='Size_num', ascending=False)\n",
    "top_5_per_category = df_sorted.groupby('Category').head(3)\n",
    "category_avg_size = top_5_per_category.groupby('Category')['Size_num'].mean().round(1)\n",
    "print(category_avg_size)\n",
    "# Replace 'Varies with device' with the average size of the category\n",
    "df['Size_num'] = df.apply(\n",
    "    lambda row: category_avg_size[row['Category']] if pd.isna(row['Size_num']) else row['Size_num'],\n",
    "    axis=1\n",
    ")"
   ]
  },
  {
   "cell_type": "code",
   "execution_count": 17,
   "id": "c64f626c-9269-4709-962d-e6cf167627d2",
   "metadata": {},
   "outputs": [],
   "source": [
    "# Convert the numeric size back to string with 'M' for display purposes\n",
    "df['Size'] = df['Size_num'].apply(lambda x: f\"{x:.1f}M\")\n",
    "# Drop the helper column\n",
    "df.drop(columns=['Size_num'], inplace=True)"
   ]
  },
  {
   "cell_type": "code",
   "execution_count": 18,
   "id": "ecc69162-b6e7-430e-ade7-d63b171b6c5d",
   "metadata": {},
   "outputs": [],
   "source": [
    "def convert_size_to_float(size):\n",
    "    if 'M' in size:\n",
    "        return float(size.replace('M', ''))\n",
    "df['Size'] = df['Size'].apply(convert_size_to_float)"
   ]
  },
  {
   "cell_type": "code",
   "execution_count": 19,
   "id": "8545faea-014e-44a0-9436-cdcca5c14dfd",
   "metadata": {},
   "outputs": [
    {
     "data": {
      "text/plain": [
       "0"
      ]
     },
     "execution_count": 19,
     "metadata": {},
     "output_type": "execute_result"
    }
   ],
   "source": [
    "df.loc[df['Size'] == 'Varies with device'].shape[0]"
   ]
  },
  {
   "cell_type": "code",
   "execution_count": 20,
   "id": "621e9aac-7b73-4693-b338-98adaea76ace",
   "metadata": {},
   "outputs": [
    {
     "data": {
      "text/html": [
       "<div>\n",
       "<style scoped>\n",
       "    .dataframe tbody tr th:only-of-type {\n",
       "        vertical-align: middle;\n",
       "    }\n",
       "\n",
       "    .dataframe tbody tr th {\n",
       "        vertical-align: top;\n",
       "    }\n",
       "\n",
       "    .dataframe thead th {\n",
       "        text-align: right;\n",
       "    }\n",
       "</style>\n",
       "<table border=\"1\" class=\"dataframe\">\n",
       "  <thead>\n",
       "    <tr style=\"text-align: right;\">\n",
       "      <th></th>\n",
       "      <th>App Name</th>\n",
       "      <th>App Id</th>\n",
       "      <th>Category</th>\n",
       "      <th>Rating</th>\n",
       "      <th>Rating Count</th>\n",
       "      <th>Maximum Installs</th>\n",
       "      <th>Free</th>\n",
       "      <th>Price</th>\n",
       "      <th>Size_M</th>\n",
       "      <th>Released</th>\n",
       "      <th>Last Updated</th>\n",
       "      <th>Content Rating</th>\n",
       "      <th>Ad Supported</th>\n",
       "      <th>In App Purchases</th>\n",
       "      <th>Editors Choice</th>\n",
       "    </tr>\n",
       "  </thead>\n",
       "  <tbody>\n",
       "    <tr>\n",
       "      <th>0</th>\n",
       "      <td>Gakondo</td>\n",
       "      <td>com.ishakwe.gakondo</td>\n",
       "      <td>Adventure</td>\n",
       "      <td>0.0</td>\n",
       "      <td>0.0</td>\n",
       "      <td>15</td>\n",
       "      <td>True</td>\n",
       "      <td>0.0</td>\n",
       "      <td>10.0</td>\n",
       "      <td>Feb 26, 2020</td>\n",
       "      <td>Feb 26, 2020</td>\n",
       "      <td>Everyone</td>\n",
       "      <td>False</td>\n",
       "      <td>False</td>\n",
       "      <td>False</td>\n",
       "    </tr>\n",
       "    <tr>\n",
       "      <th>1</th>\n",
       "      <td>Ampere Battery Info</td>\n",
       "      <td>com.webserveis.batteryinfo</td>\n",
       "      <td>Tools</td>\n",
       "      <td>4.4</td>\n",
       "      <td>64.0</td>\n",
       "      <td>7662</td>\n",
       "      <td>True</td>\n",
       "      <td>0.0</td>\n",
       "      <td>2.9</td>\n",
       "      <td>May 21, 2020</td>\n",
       "      <td>May 06, 2021</td>\n",
       "      <td>Everyone</td>\n",
       "      <td>True</td>\n",
       "      <td>False</td>\n",
       "      <td>False</td>\n",
       "    </tr>\n",
       "    <tr>\n",
       "      <th>2</th>\n",
       "      <td>Vibook</td>\n",
       "      <td>com.doantiepvien.crm</td>\n",
       "      <td>Productivity</td>\n",
       "      <td>0.0</td>\n",
       "      <td>0.0</td>\n",
       "      <td>58</td>\n",
       "      <td>True</td>\n",
       "      <td>0.0</td>\n",
       "      <td>3.7</td>\n",
       "      <td>Aug 9, 2019</td>\n",
       "      <td>Aug 19, 2019</td>\n",
       "      <td>Everyone</td>\n",
       "      <td>False</td>\n",
       "      <td>False</td>\n",
       "      <td>False</td>\n",
       "    </tr>\n",
       "    <tr>\n",
       "      <th>3</th>\n",
       "      <td>Smart City Trichy Public Service Vehicles 17UC...</td>\n",
       "      <td>cst.stJoseph.ug17ucs548</td>\n",
       "      <td>Communication</td>\n",
       "      <td>5.0</td>\n",
       "      <td>5.0</td>\n",
       "      <td>19</td>\n",
       "      <td>True</td>\n",
       "      <td>0.0</td>\n",
       "      <td>1.8</td>\n",
       "      <td>Sep 10, 2018</td>\n",
       "      <td>Oct 13, 2018</td>\n",
       "      <td>Everyone</td>\n",
       "      <td>True</td>\n",
       "      <td>False</td>\n",
       "      <td>False</td>\n",
       "    </tr>\n",
       "    <tr>\n",
       "      <th>4</th>\n",
       "      <td>GROW.me</td>\n",
       "      <td>com.horodyski.grower</td>\n",
       "      <td>Tools</td>\n",
       "      <td>0.0</td>\n",
       "      <td>0.0</td>\n",
       "      <td>478</td>\n",
       "      <td>True</td>\n",
       "      <td>0.0</td>\n",
       "      <td>6.2</td>\n",
       "      <td>Feb 21, 2020</td>\n",
       "      <td>Nov 12, 2018</td>\n",
       "      <td>Everyone</td>\n",
       "      <td>False</td>\n",
       "      <td>False</td>\n",
       "      <td>False</td>\n",
       "    </tr>\n",
       "  </tbody>\n",
       "</table>\n",
       "</div>"
      ],
      "text/plain": [
       "                                            App Name  \\\n",
       "0                                            Gakondo   \n",
       "1                                Ampere Battery Info   \n",
       "2                                             Vibook   \n",
       "3  Smart City Trichy Public Service Vehicles 17UC...   \n",
       "4                                            GROW.me   \n",
       "\n",
       "                       App Id       Category  Rating  Rating Count  \\\n",
       "0         com.ishakwe.gakondo      Adventure     0.0           0.0   \n",
       "1  com.webserveis.batteryinfo          Tools     4.4          64.0   \n",
       "2        com.doantiepvien.crm   Productivity     0.0           0.0   \n",
       "3     cst.stJoseph.ug17ucs548  Communication     5.0           5.0   \n",
       "4        com.horodyski.grower          Tools     0.0           0.0   \n",
       "\n",
       "   Maximum Installs  Free  Price  Size_M      Released  Last Updated  \\\n",
       "0                15  True    0.0    10.0  Feb 26, 2020  Feb 26, 2020   \n",
       "1              7662  True    0.0     2.9  May 21, 2020  May 06, 2021   \n",
       "2                58  True    0.0     3.7   Aug 9, 2019  Aug 19, 2019   \n",
       "3                19  True    0.0     1.8  Sep 10, 2018  Oct 13, 2018   \n",
       "4               478  True    0.0     6.2  Feb 21, 2020  Nov 12, 2018   \n",
       "\n",
       "  Content Rating  Ad Supported  In App Purchases  Editors Choice  \n",
       "0       Everyone         False             False           False  \n",
       "1       Everyone          True             False           False  \n",
       "2       Everyone         False             False           False  \n",
       "3       Everyone          True             False           False  \n",
       "4       Everyone         False             False           False  "
      ]
     },
     "execution_count": 20,
     "metadata": {},
     "output_type": "execute_result"
    }
   ],
   "source": [
    "df.rename(columns={'Size':'Size_M'}, inplace=True)\n",
    "df.head()"
   ]
  },
  {
   "cell_type": "code",
   "execution_count": 21,
   "id": "2e8c7305-5149-4894-bfe5-4adb3cf06505",
   "metadata": {},
   "outputs": [],
   "source": [
    "df.rename(columns={'Maximum Installs':'Installs'}, inplace=True)"
   ]
  },
  {
   "cell_type": "code",
   "execution_count": 22,
   "id": "3ab64c2d-90c7-4a12-bbe1-628cd07ce846",
   "metadata": {},
   "outputs": [
    {
     "name": "stdout",
     "output_type": "stream",
     "text": [
      "<class 'pandas.core.frame.DataFrame'>\n",
      "RangeIndex: 2312944 entries, 0 to 2312943\n",
      "Data columns (total 15 columns):\n",
      " #   Column            Dtype  \n",
      "---  ------            -----  \n",
      " 0   App Name          object \n",
      " 1   App Id            object \n",
      " 2   Category          object \n",
      " 3   Rating            float64\n",
      " 4   Rating Count      float64\n",
      " 5   Installs          int64  \n",
      " 6   Free              bool   \n",
      " 7   Price             float64\n",
      " 8   Size_M            float64\n",
      " 9   Released          object \n",
      " 10  Last Updated      object \n",
      " 11  Content Rating    object \n",
      " 12  Ad Supported      bool   \n",
      " 13  In App Purchases  bool   \n",
      " 14  Editors Choice    bool   \n",
      "dtypes: bool(4), float64(4), int64(1), object(6)\n",
      "memory usage: 202.9+ MB\n"
     ]
    }
   ],
   "source": [
    "df.info()"
   ]
  },
  {
   "cell_type": "markdown",
   "id": "9adc726e-435d-4cde-b0f1-bdb64bb2ccfc",
   "metadata": {},
   "source": [
    "### Dropping Nulls"
   ]
  },
  {
   "cell_type": "code",
   "execution_count": 23,
   "id": "a2e43718-0aa5-429f-b366-5a72d27e6b93",
   "metadata": {},
   "outputs": [
    {
     "data": {
      "text/plain": [
       "71053"
      ]
     },
     "execution_count": 23,
     "metadata": {},
     "output_type": "execute_result"
    }
   ],
   "source": [
    "df['Released'].isna().sum()"
   ]
  },
  {
   "cell_type": "code",
   "execution_count": 24,
   "id": "6ce301ae-536c-4c04-9384-d4fe5ebe7ffd",
   "metadata": {},
   "outputs": [
    {
     "data": {
      "text/plain": [
       "5"
      ]
     },
     "execution_count": 24,
     "metadata": {},
     "output_type": "execute_result"
    }
   ],
   "source": [
    "df['App Name'].isna().sum()"
   ]
  },
  {
   "cell_type": "code",
   "execution_count": 25,
   "id": "83f8cebc-4956-4c09-908a-39bd693ba259",
   "metadata": {},
   "outputs": [
    {
     "data": {
      "text/plain": [
       "0"
      ]
     },
     "execution_count": 25,
     "metadata": {},
     "output_type": "execute_result"
    }
   ],
   "source": [
    "df['App Id'].isna().sum()"
   ]
  },
  {
   "cell_type": "code",
   "execution_count": 26,
   "id": "b0b474c8-64cc-4557-aef2-b076035b6bc9",
   "metadata": {},
   "outputs": [
    {
     "data": {
      "text/plain": [
       "0"
      ]
     },
     "execution_count": 26,
     "metadata": {},
     "output_type": "execute_result"
    }
   ],
   "source": [
    "df['Category'].isna().sum()"
   ]
  },
  {
   "cell_type": "code",
   "execution_count": 27,
   "id": "b4ab6dbb-a281-42fc-8afe-2a9c1dd1fc1c",
   "metadata": {},
   "outputs": [
    {
     "data": {
      "text/plain": [
       "22883"
      ]
     },
     "execution_count": 27,
     "metadata": {},
     "output_type": "execute_result"
    }
   ],
   "source": [
    "df['Rating'].isna().sum()"
   ]
  },
  {
   "cell_type": "code",
   "execution_count": 28,
   "id": "6d08a9ad-55f3-4902-a62c-644077ecb60c",
   "metadata": {},
   "outputs": [
    {
     "data": {
      "text/plain": [
       "22883"
      ]
     },
     "execution_count": 28,
     "metadata": {},
     "output_type": "execute_result"
    }
   ],
   "source": [
    "df['Rating Count'].isna().sum()"
   ]
  },
  {
   "cell_type": "code",
   "execution_count": 29,
   "id": "f42b3087-7384-48fe-8df4-9f19d959b899",
   "metadata": {},
   "outputs": [
    {
     "data": {
      "text/plain": [
       "0"
      ]
     },
     "execution_count": 29,
     "metadata": {},
     "output_type": "execute_result"
    }
   ],
   "source": [
    "df['Installs'].isna().sum()"
   ]
  },
  {
   "cell_type": "code",
   "execution_count": 30,
   "id": "f4a5a443-4bc5-47f3-b7ab-2c32b791e3ec",
   "metadata": {},
   "outputs": [
    {
     "data": {
      "text/plain": [
       "0"
      ]
     },
     "execution_count": 30,
     "metadata": {},
     "output_type": "execute_result"
    }
   ],
   "source": [
    "df['Free'].isna().sum()"
   ]
  },
  {
   "cell_type": "code",
   "execution_count": 31,
   "id": "c654e7ba-cbc2-43b2-ab68-1d3d0d46c462",
   "metadata": {},
   "outputs": [
    {
     "data": {
      "text/plain": [
       "0"
      ]
     },
     "execution_count": 31,
     "metadata": {},
     "output_type": "execute_result"
    }
   ],
   "source": [
    "df['Price'].isna().sum()"
   ]
  },
  {
   "cell_type": "code",
   "execution_count": 32,
   "id": "1d916f9a-ccc1-4810-a106-151676a143d8",
   "metadata": {},
   "outputs": [
    {
     "data": {
      "text/plain": [
       "0"
      ]
     },
     "execution_count": 32,
     "metadata": {},
     "output_type": "execute_result"
    }
   ],
   "source": [
    "df['Size_M'].isna().sum()"
   ]
  },
  {
   "cell_type": "code",
   "execution_count": 33,
   "id": "006288e5-f13f-4a9b-8b74-df3b0d5d3f4c",
   "metadata": {},
   "outputs": [
    {
     "data": {
      "text/plain": [
       "0"
      ]
     },
     "execution_count": 33,
     "metadata": {},
     "output_type": "execute_result"
    }
   ],
   "source": [
    "df['Content Rating'].isna().sum()"
   ]
  },
  {
   "cell_type": "code",
   "execution_count": 34,
   "id": "b3ae2214-3149-48fd-ab28-c0b9d80a9a73",
   "metadata": {},
   "outputs": [
    {
     "data": {
      "text/plain": [
       "0"
      ]
     },
     "execution_count": 34,
     "metadata": {},
     "output_type": "execute_result"
    }
   ],
   "source": [
    "df['Ad Supported'].isna().sum()"
   ]
  },
  {
   "cell_type": "code",
   "execution_count": 35,
   "id": "1fbcef9b-3c19-4392-b694-9697485fe444",
   "metadata": {},
   "outputs": [
    {
     "data": {
      "text/plain": [
       "0"
      ]
     },
     "execution_count": 35,
     "metadata": {},
     "output_type": "execute_result"
    }
   ],
   "source": [
    "df['In App Purchases'].isna().sum()"
   ]
  },
  {
   "cell_type": "code",
   "execution_count": 36,
   "id": "0d6abaad-5b6f-4278-997a-856b04fe4bd0",
   "metadata": {},
   "outputs": [
    {
     "data": {
      "text/plain": [
       "0"
      ]
     },
     "execution_count": 36,
     "metadata": {},
     "output_type": "execute_result"
    }
   ],
   "source": [
    "df['Editors Choice'].isna().sum()"
   ]
  },
  {
   "cell_type": "markdown",
   "id": "03b7601a-07c3-481d-845e-e4c75035585a",
   "metadata": {},
   "source": [
    "#### Nulls in [App Name: 5 | Rating and Rating count: 22883 | Released: 71053]"
   ]
  },
  {
   "cell_type": "code",
   "execution_count": 37,
   "id": "c8d82c17-4597-4f4f-bca2-55ebc35a9245",
   "metadata": {},
   "outputs": [],
   "source": [
    "df = df.dropna(subset=['App Name'], how='all')"
   ]
  },
  {
   "cell_type": "code",
   "execution_count": 38,
   "id": "3e792201-f19c-4a36-9bad-a8120f8af5f6",
   "metadata": {},
   "outputs": [
    {
     "data": {
      "text/plain": [
       "0"
      ]
     },
     "execution_count": 38,
     "metadata": {},
     "output_type": "execute_result"
    }
   ],
   "source": [
    "df['App Name'].isna().sum()"
   ]
  },
  {
   "cell_type": "code",
   "execution_count": 39,
   "id": "f938e1a3-7eb4-4bc8-b4ad-b4d8e620e84d",
   "metadata": {},
   "outputs": [],
   "source": [
    "df = df.dropna(subset=['Rating'], how='all')"
   ]
  },
  {
   "cell_type": "code",
   "execution_count": 40,
   "id": "2c6e9c42-86a3-49f6-9bf6-793c4ba7c41e",
   "metadata": {},
   "outputs": [
    {
     "data": {
      "text/plain": [
       "0"
      ]
     },
     "execution_count": 40,
     "metadata": {},
     "output_type": "execute_result"
    }
   ],
   "source": [
    "df['Rating'].isna().sum()"
   ]
  },
  {
   "cell_type": "code",
   "execution_count": 41,
   "id": "3c43350c-b1f5-4c2e-b262-399a581eeab8",
   "metadata": {},
   "outputs": [
    {
     "data": {
      "text/plain": [
       "0"
      ]
     },
     "execution_count": 41,
     "metadata": {},
     "output_type": "execute_result"
    }
   ],
   "source": [
    "df['Rating Count'].isna().sum()"
   ]
  },
  {
   "cell_type": "code",
   "execution_count": 42,
   "id": "55d2d1e4-ec83-4fc3-a31f-c15801f237d6",
   "metadata": {},
   "outputs": [],
   "source": [
    "df = df.dropna(subset=['Released'], how='all')"
   ]
  },
  {
   "cell_type": "code",
   "execution_count": 43,
   "id": "95b561ba-acb4-41f0-a5ea-25c693d7d92c",
   "metadata": {},
   "outputs": [
    {
     "data": {
      "text/plain": [
       "0"
      ]
     },
     "execution_count": 43,
     "metadata": {},
     "output_type": "execute_result"
    }
   ],
   "source": [
    "df['Released'].isna().sum()"
   ]
  },
  {
   "cell_type": "code",
   "execution_count": 44,
   "id": "adc23a5f-7e85-4d7c-af6b-d654470ddc7b",
   "metadata": {},
   "outputs": [
    {
     "data": {
      "text/html": [
       "<div>\n",
       "<style scoped>\n",
       "    .dataframe tbody tr th:only-of-type {\n",
       "        vertical-align: middle;\n",
       "    }\n",
       "\n",
       "    .dataframe tbody tr th {\n",
       "        vertical-align: top;\n",
       "    }\n",
       "\n",
       "    .dataframe thead th {\n",
       "        text-align: right;\n",
       "    }\n",
       "</style>\n",
       "<table border=\"1\" class=\"dataframe\">\n",
       "  <thead>\n",
       "    <tr style=\"text-align: right;\">\n",
       "      <th></th>\n",
       "      <th>App Name</th>\n",
       "      <th>App Id</th>\n",
       "      <th>Category</th>\n",
       "      <th>Rating</th>\n",
       "      <th>Rating Count</th>\n",
       "      <th>Installs</th>\n",
       "      <th>Free</th>\n",
       "      <th>Price</th>\n",
       "      <th>Size_M</th>\n",
       "      <th>Released</th>\n",
       "      <th>Last Updated</th>\n",
       "      <th>Content Rating</th>\n",
       "      <th>Ad Supported</th>\n",
       "      <th>In App Purchases</th>\n",
       "      <th>Editors Choice</th>\n",
       "    </tr>\n",
       "  </thead>\n",
       "  <tbody>\n",
       "    <tr>\n",
       "      <th>0</th>\n",
       "      <td>Gakondo</td>\n",
       "      <td>com.ishakwe.gakondo</td>\n",
       "      <td>Adventure</td>\n",
       "      <td>0.0</td>\n",
       "      <td>0.0</td>\n",
       "      <td>15</td>\n",
       "      <td>True</td>\n",
       "      <td>0.0</td>\n",
       "      <td>10.0</td>\n",
       "      <td>Feb 26, 2020</td>\n",
       "      <td>Feb 26, 2020</td>\n",
       "      <td>Everyone</td>\n",
       "      <td>False</td>\n",
       "      <td>False</td>\n",
       "      <td>False</td>\n",
       "    </tr>\n",
       "    <tr>\n",
       "      <th>1</th>\n",
       "      <td>Ampere Battery Info</td>\n",
       "      <td>com.webserveis.batteryinfo</td>\n",
       "      <td>Tools</td>\n",
       "      <td>4.4</td>\n",
       "      <td>64.0</td>\n",
       "      <td>7662</td>\n",
       "      <td>True</td>\n",
       "      <td>0.0</td>\n",
       "      <td>2.9</td>\n",
       "      <td>May 21, 2020</td>\n",
       "      <td>May 06, 2021</td>\n",
       "      <td>Everyone</td>\n",
       "      <td>True</td>\n",
       "      <td>False</td>\n",
       "      <td>False</td>\n",
       "    </tr>\n",
       "    <tr>\n",
       "      <th>2</th>\n",
       "      <td>Vibook</td>\n",
       "      <td>com.doantiepvien.crm</td>\n",
       "      <td>Productivity</td>\n",
       "      <td>0.0</td>\n",
       "      <td>0.0</td>\n",
       "      <td>58</td>\n",
       "      <td>True</td>\n",
       "      <td>0.0</td>\n",
       "      <td>3.7</td>\n",
       "      <td>Aug 9, 2019</td>\n",
       "      <td>Aug 19, 2019</td>\n",
       "      <td>Everyone</td>\n",
       "      <td>False</td>\n",
       "      <td>False</td>\n",
       "      <td>False</td>\n",
       "    </tr>\n",
       "    <tr>\n",
       "      <th>3</th>\n",
       "      <td>Smart City Trichy Public Service Vehicles 17UC...</td>\n",
       "      <td>cst.stJoseph.ug17ucs548</td>\n",
       "      <td>Communication</td>\n",
       "      <td>5.0</td>\n",
       "      <td>5.0</td>\n",
       "      <td>19</td>\n",
       "      <td>True</td>\n",
       "      <td>0.0</td>\n",
       "      <td>1.8</td>\n",
       "      <td>Sep 10, 2018</td>\n",
       "      <td>Oct 13, 2018</td>\n",
       "      <td>Everyone</td>\n",
       "      <td>True</td>\n",
       "      <td>False</td>\n",
       "      <td>False</td>\n",
       "    </tr>\n",
       "    <tr>\n",
       "      <th>4</th>\n",
       "      <td>GROW.me</td>\n",
       "      <td>com.horodyski.grower</td>\n",
       "      <td>Tools</td>\n",
       "      <td>0.0</td>\n",
       "      <td>0.0</td>\n",
       "      <td>478</td>\n",
       "      <td>True</td>\n",
       "      <td>0.0</td>\n",
       "      <td>6.2</td>\n",
       "      <td>Feb 21, 2020</td>\n",
       "      <td>Nov 12, 2018</td>\n",
       "      <td>Everyone</td>\n",
       "      <td>False</td>\n",
       "      <td>False</td>\n",
       "      <td>False</td>\n",
       "    </tr>\n",
       "  </tbody>\n",
       "</table>\n",
       "</div>"
      ],
      "text/plain": [
       "                                            App Name  \\\n",
       "0                                            Gakondo   \n",
       "1                                Ampere Battery Info   \n",
       "2                                             Vibook   \n",
       "3  Smart City Trichy Public Service Vehicles 17UC...   \n",
       "4                                            GROW.me   \n",
       "\n",
       "                       App Id       Category  Rating  Rating Count  Installs  \\\n",
       "0         com.ishakwe.gakondo      Adventure     0.0           0.0        15   \n",
       "1  com.webserveis.batteryinfo          Tools     4.4          64.0      7662   \n",
       "2        com.doantiepvien.crm   Productivity     0.0           0.0        58   \n",
       "3     cst.stJoseph.ug17ucs548  Communication     5.0           5.0        19   \n",
       "4        com.horodyski.grower          Tools     0.0           0.0       478   \n",
       "\n",
       "   Free  Price  Size_M      Released  Last Updated Content Rating  \\\n",
       "0  True    0.0    10.0  Feb 26, 2020  Feb 26, 2020       Everyone   \n",
       "1  True    0.0     2.9  May 21, 2020  May 06, 2021       Everyone   \n",
       "2  True    0.0     3.7   Aug 9, 2019  Aug 19, 2019       Everyone   \n",
       "3  True    0.0     1.8  Sep 10, 2018  Oct 13, 2018       Everyone   \n",
       "4  True    0.0     6.2  Feb 21, 2020  Nov 12, 2018       Everyone   \n",
       "\n",
       "   Ad Supported  In App Purchases  Editors Choice  \n",
       "0         False             False           False  \n",
       "1          True             False           False  \n",
       "2         False             False           False  \n",
       "3          True             False           False  \n",
       "4         False             False           False  "
      ]
     },
     "execution_count": 44,
     "metadata": {},
     "output_type": "execute_result"
    }
   ],
   "source": [
    "df.head()"
   ]
  },
  {
   "cell_type": "markdown",
   "id": "c0361ecc-2a1d-4113-bbf6-f6cb6f53d98c",
   "metadata": {},
   "source": [
    "### Released"
   ]
  },
  {
   "cell_type": "code",
   "execution_count": 45,
   "id": "a3424b73-4453-4e4d-9205-796958606a9e",
   "metadata": {},
   "outputs": [],
   "source": [
    "df['Released'] = pd.to_datetime(df['Released'])"
   ]
  },
  {
   "cell_type": "code",
   "execution_count": 46,
   "id": "934fc7b7-bc1c-4509-becf-85db3715d6ad",
   "metadata": {},
   "outputs": [],
   "source": [
    "df['Released_Year'] = df['Released'].dt.year\n",
    "df['Released_Month'] = df['Released'].dt.month"
   ]
  },
  {
   "cell_type": "code",
   "execution_count": 47,
   "id": "542136fa-3adf-4ea7-9bf1-9d70d86526ec",
   "metadata": {},
   "outputs": [
    {
     "data": {
      "text/html": [
       "<div>\n",
       "<style scoped>\n",
       "    .dataframe tbody tr th:only-of-type {\n",
       "        vertical-align: middle;\n",
       "    }\n",
       "\n",
       "    .dataframe tbody tr th {\n",
       "        vertical-align: top;\n",
       "    }\n",
       "\n",
       "    .dataframe thead th {\n",
       "        text-align: right;\n",
       "    }\n",
       "</style>\n",
       "<table border=\"1\" class=\"dataframe\">\n",
       "  <thead>\n",
       "    <tr style=\"text-align: right;\">\n",
       "      <th></th>\n",
       "      <th>App Name</th>\n",
       "      <th>App Id</th>\n",
       "      <th>Category</th>\n",
       "      <th>Rating</th>\n",
       "      <th>Rating Count</th>\n",
       "      <th>Installs</th>\n",
       "      <th>Free</th>\n",
       "      <th>Price</th>\n",
       "      <th>Size_M</th>\n",
       "      <th>Released</th>\n",
       "      <th>Last Updated</th>\n",
       "      <th>Content Rating</th>\n",
       "      <th>Ad Supported</th>\n",
       "      <th>In App Purchases</th>\n",
       "      <th>Editors Choice</th>\n",
       "      <th>Released_Year</th>\n",
       "      <th>Released_Month</th>\n",
       "    </tr>\n",
       "  </thead>\n",
       "  <tbody>\n",
       "    <tr>\n",
       "      <th>0</th>\n",
       "      <td>Gakondo</td>\n",
       "      <td>com.ishakwe.gakondo</td>\n",
       "      <td>Adventure</td>\n",
       "      <td>0.0</td>\n",
       "      <td>0.0</td>\n",
       "      <td>15</td>\n",
       "      <td>True</td>\n",
       "      <td>0.0</td>\n",
       "      <td>10.0</td>\n",
       "      <td>2020-02-26</td>\n",
       "      <td>Feb 26, 2020</td>\n",
       "      <td>Everyone</td>\n",
       "      <td>False</td>\n",
       "      <td>False</td>\n",
       "      <td>False</td>\n",
       "      <td>2020</td>\n",
       "      <td>2</td>\n",
       "    </tr>\n",
       "    <tr>\n",
       "      <th>1</th>\n",
       "      <td>Ampere Battery Info</td>\n",
       "      <td>com.webserveis.batteryinfo</td>\n",
       "      <td>Tools</td>\n",
       "      <td>4.4</td>\n",
       "      <td>64.0</td>\n",
       "      <td>7662</td>\n",
       "      <td>True</td>\n",
       "      <td>0.0</td>\n",
       "      <td>2.9</td>\n",
       "      <td>2020-05-21</td>\n",
       "      <td>May 06, 2021</td>\n",
       "      <td>Everyone</td>\n",
       "      <td>True</td>\n",
       "      <td>False</td>\n",
       "      <td>False</td>\n",
       "      <td>2020</td>\n",
       "      <td>5</td>\n",
       "    </tr>\n",
       "    <tr>\n",
       "      <th>2</th>\n",
       "      <td>Vibook</td>\n",
       "      <td>com.doantiepvien.crm</td>\n",
       "      <td>Productivity</td>\n",
       "      <td>0.0</td>\n",
       "      <td>0.0</td>\n",
       "      <td>58</td>\n",
       "      <td>True</td>\n",
       "      <td>0.0</td>\n",
       "      <td>3.7</td>\n",
       "      <td>2019-08-09</td>\n",
       "      <td>Aug 19, 2019</td>\n",
       "      <td>Everyone</td>\n",
       "      <td>False</td>\n",
       "      <td>False</td>\n",
       "      <td>False</td>\n",
       "      <td>2019</td>\n",
       "      <td>8</td>\n",
       "    </tr>\n",
       "    <tr>\n",
       "      <th>3</th>\n",
       "      <td>Smart City Trichy Public Service Vehicles 17UC...</td>\n",
       "      <td>cst.stJoseph.ug17ucs548</td>\n",
       "      <td>Communication</td>\n",
       "      <td>5.0</td>\n",
       "      <td>5.0</td>\n",
       "      <td>19</td>\n",
       "      <td>True</td>\n",
       "      <td>0.0</td>\n",
       "      <td>1.8</td>\n",
       "      <td>2018-09-10</td>\n",
       "      <td>Oct 13, 2018</td>\n",
       "      <td>Everyone</td>\n",
       "      <td>True</td>\n",
       "      <td>False</td>\n",
       "      <td>False</td>\n",
       "      <td>2018</td>\n",
       "      <td>9</td>\n",
       "    </tr>\n",
       "    <tr>\n",
       "      <th>4</th>\n",
       "      <td>GROW.me</td>\n",
       "      <td>com.horodyski.grower</td>\n",
       "      <td>Tools</td>\n",
       "      <td>0.0</td>\n",
       "      <td>0.0</td>\n",
       "      <td>478</td>\n",
       "      <td>True</td>\n",
       "      <td>0.0</td>\n",
       "      <td>6.2</td>\n",
       "      <td>2020-02-21</td>\n",
       "      <td>Nov 12, 2018</td>\n",
       "      <td>Everyone</td>\n",
       "      <td>False</td>\n",
       "      <td>False</td>\n",
       "      <td>False</td>\n",
       "      <td>2020</td>\n",
       "      <td>2</td>\n",
       "    </tr>\n",
       "  </tbody>\n",
       "</table>\n",
       "</div>"
      ],
      "text/plain": [
       "                                            App Name  \\\n",
       "0                                            Gakondo   \n",
       "1                                Ampere Battery Info   \n",
       "2                                             Vibook   \n",
       "3  Smart City Trichy Public Service Vehicles 17UC...   \n",
       "4                                            GROW.me   \n",
       "\n",
       "                       App Id       Category  Rating  Rating Count  Installs  \\\n",
       "0         com.ishakwe.gakondo      Adventure     0.0           0.0        15   \n",
       "1  com.webserveis.batteryinfo          Tools     4.4          64.0      7662   \n",
       "2        com.doantiepvien.crm   Productivity     0.0           0.0        58   \n",
       "3     cst.stJoseph.ug17ucs548  Communication     5.0           5.0        19   \n",
       "4        com.horodyski.grower          Tools     0.0           0.0       478   \n",
       "\n",
       "   Free  Price  Size_M   Released  Last Updated Content Rating  Ad Supported  \\\n",
       "0  True    0.0    10.0 2020-02-26  Feb 26, 2020       Everyone         False   \n",
       "1  True    0.0     2.9 2020-05-21  May 06, 2021       Everyone          True   \n",
       "2  True    0.0     3.7 2019-08-09  Aug 19, 2019       Everyone         False   \n",
       "3  True    0.0     1.8 2018-09-10  Oct 13, 2018       Everyone          True   \n",
       "4  True    0.0     6.2 2020-02-21  Nov 12, 2018       Everyone         False   \n",
       "\n",
       "   In App Purchases  Editors Choice  Released_Year  Released_Month  \n",
       "0             False           False           2020               2  \n",
       "1             False           False           2020               5  \n",
       "2             False           False           2019               8  \n",
       "3             False           False           2018               9  \n",
       "4             False           False           2020               2  "
      ]
     },
     "execution_count": 47,
     "metadata": {},
     "output_type": "execute_result"
    }
   ],
   "source": [
    "df.head()"
   ]
  },
  {
   "cell_type": "code",
   "execution_count": 48,
   "id": "3181211b-947b-40d8-9697-6e6637a48955",
   "metadata": {},
   "outputs": [
    {
     "data": {
      "text/plain": [
       "Timestamp('2021-06-16 00:00:00')"
      ]
     },
     "execution_count": 48,
     "metadata": {},
     "output_type": "execute_result"
    }
   ],
   "source": [
    "df['Released'].max()"
   ]
  },
  {
   "cell_type": "code",
   "execution_count": 49,
   "id": "54ddc747-10da-4f9f-9175-e05a89239d14",
   "metadata": {},
   "outputs": [],
   "source": [
    "# Ensure both columns are in datetime format\n",
    "# specific_date = pd.to_datetime('2021-06-16')\n",
    "df['Released'] = pd.to_datetime(df['Released'])\n",
    "df['Last Updated'] = pd.to_datetime(df['Last Updated'])\n",
    "\n",
    "# Calculate the difference in days\n",
    "df['Days_Between'] = np.abs((df['Last Updated'] - df['Released']).dt.days)\n",
    "\n",
    "one_month_days = 30\n",
    "\n",
    "df = df[(df['Days_Between'] >= 0) & (df['Days_Between'] <= one_month_days)]\n",
    "\n",
    "# Calculate the daily average number of installs\n",
    "# Use np.where to handle cases where Days_Between is zero\n",
    "df['Daily_Avg_Installs'] = np.where(\n",
    "    df['Days_Between'] == 0, \n",
    "    df['Installs'], \n",
    "    (df['Installs'] / df['Days_Between']).round(1)\n",
    ")"
   ]
  },
  {
   "cell_type": "code",
   "execution_count": 50,
   "id": "427ed5e1-1def-4287-82c5-100c1096de23",
   "metadata": {},
   "outputs": [
    {
     "data": {
      "text/html": [
       "<div>\n",
       "<style scoped>\n",
       "    .dataframe tbody tr th:only-of-type {\n",
       "        vertical-align: middle;\n",
       "    }\n",
       "\n",
       "    .dataframe tbody tr th {\n",
       "        vertical-align: top;\n",
       "    }\n",
       "\n",
       "    .dataframe thead th {\n",
       "        text-align: right;\n",
       "    }\n",
       "</style>\n",
       "<table border=\"1\" class=\"dataframe\">\n",
       "  <thead>\n",
       "    <tr style=\"text-align: right;\">\n",
       "      <th></th>\n",
       "      <th>App Name</th>\n",
       "      <th>App Id</th>\n",
       "      <th>Category</th>\n",
       "      <th>Rating</th>\n",
       "      <th>Rating Count</th>\n",
       "      <th>Installs</th>\n",
       "      <th>Free</th>\n",
       "      <th>Price</th>\n",
       "      <th>Size_M</th>\n",
       "      <th>Released</th>\n",
       "      <th>Last Updated</th>\n",
       "      <th>Content Rating</th>\n",
       "      <th>Ad Supported</th>\n",
       "      <th>In App Purchases</th>\n",
       "      <th>Editors Choice</th>\n",
       "      <th>Released_Year</th>\n",
       "      <th>Released_Month</th>\n",
       "      <th>Days_Between</th>\n",
       "      <th>Daily_Avg_Installs</th>\n",
       "    </tr>\n",
       "  </thead>\n",
       "  <tbody>\n",
       "    <tr>\n",
       "      <th>0</th>\n",
       "      <td>Gakondo</td>\n",
       "      <td>com.ishakwe.gakondo</td>\n",
       "      <td>Adventure</td>\n",
       "      <td>0.0</td>\n",
       "      <td>0.0</td>\n",
       "      <td>15</td>\n",
       "      <td>True</td>\n",
       "      <td>0.0</td>\n",
       "      <td>10.0</td>\n",
       "      <td>2020-02-26</td>\n",
       "      <td>2020-02-26</td>\n",
       "      <td>Everyone</td>\n",
       "      <td>False</td>\n",
       "      <td>False</td>\n",
       "      <td>False</td>\n",
       "      <td>2020</td>\n",
       "      <td>2</td>\n",
       "      <td>0</td>\n",
       "      <td>15.0</td>\n",
       "    </tr>\n",
       "    <tr>\n",
       "      <th>2</th>\n",
       "      <td>Vibook</td>\n",
       "      <td>com.doantiepvien.crm</td>\n",
       "      <td>Productivity</td>\n",
       "      <td>0.0</td>\n",
       "      <td>0.0</td>\n",
       "      <td>58</td>\n",
       "      <td>True</td>\n",
       "      <td>0.0</td>\n",
       "      <td>3.7</td>\n",
       "      <td>2019-08-09</td>\n",
       "      <td>2019-08-19</td>\n",
       "      <td>Everyone</td>\n",
       "      <td>False</td>\n",
       "      <td>False</td>\n",
       "      <td>False</td>\n",
       "      <td>2019</td>\n",
       "      <td>8</td>\n",
       "      <td>10</td>\n",
       "      <td>5.8</td>\n",
       "    </tr>\n",
       "    <tr>\n",
       "      <th>6</th>\n",
       "      <td>unlimited 4G data prank free app</td>\n",
       "      <td>getfreedata.superfatiza.unlimitedjiodataprank</td>\n",
       "      <td>Libraries &amp; Demo</td>\n",
       "      <td>4.5</td>\n",
       "      <td>12.0</td>\n",
       "      <td>2567</td>\n",
       "      <td>True</td>\n",
       "      <td>0.0</td>\n",
       "      <td>2.5</td>\n",
       "      <td>2019-09-23</td>\n",
       "      <td>2019-09-27</td>\n",
       "      <td>Everyone</td>\n",
       "      <td>True</td>\n",
       "      <td>False</td>\n",
       "      <td>False</td>\n",
       "      <td>2019</td>\n",
       "      <td>9</td>\n",
       "      <td>4</td>\n",
       "      <td>641.8</td>\n",
       "    </tr>\n",
       "    <tr>\n",
       "      <th>7</th>\n",
       "      <td>The Everyday Calendar</td>\n",
       "      <td>com.mozaix.simoneboard</td>\n",
       "      <td>Lifestyle</td>\n",
       "      <td>2.0</td>\n",
       "      <td>39.0</td>\n",
       "      <td>702</td>\n",
       "      <td>True</td>\n",
       "      <td>0.0</td>\n",
       "      <td>16.0</td>\n",
       "      <td>2019-06-21</td>\n",
       "      <td>2019-06-21</td>\n",
       "      <td>Everyone</td>\n",
       "      <td>False</td>\n",
       "      <td>False</td>\n",
       "      <td>False</td>\n",
       "      <td>2019</td>\n",
       "      <td>6</td>\n",
       "      <td>0</td>\n",
       "      <td>702.0</td>\n",
       "    </tr>\n",
       "    <tr>\n",
       "      <th>10</th>\n",
       "      <td>Dodge The Cars!</td>\n",
       "      <td>com.MrScratchEnterprises.CarDogeGame</td>\n",
       "      <td>Racing</td>\n",
       "      <td>4.9</td>\n",
       "      <td>55.0</td>\n",
       "      <td>329</td>\n",
       "      <td>True</td>\n",
       "      <td>0.0</td>\n",
       "      <td>51.0</td>\n",
       "      <td>2020-07-30</td>\n",
       "      <td>2020-07-30</td>\n",
       "      <td>Everyone</td>\n",
       "      <td>False</td>\n",
       "      <td>False</td>\n",
       "      <td>False</td>\n",
       "      <td>2020</td>\n",
       "      <td>7</td>\n",
       "      <td>0</td>\n",
       "      <td>329.0</td>\n",
       "    </tr>\n",
       "  </tbody>\n",
       "</table>\n",
       "</div>"
      ],
      "text/plain": [
       "                            App Name  \\\n",
       "0                            Gakondo   \n",
       "2                             Vibook   \n",
       "6   unlimited 4G data prank free app   \n",
       "7              The Everyday Calendar   \n",
       "10                   Dodge The Cars!   \n",
       "\n",
       "                                           App Id          Category  Rating  \\\n",
       "0                             com.ishakwe.gakondo         Adventure     0.0   \n",
       "2                            com.doantiepvien.crm      Productivity     0.0   \n",
       "6   getfreedata.superfatiza.unlimitedjiodataprank  Libraries & Demo     4.5   \n",
       "7                          com.mozaix.simoneboard         Lifestyle     2.0   \n",
       "10           com.MrScratchEnterprises.CarDogeGame            Racing     4.9   \n",
       "\n",
       "    Rating Count  Installs  Free  Price  Size_M   Released Last Updated  \\\n",
       "0            0.0        15  True    0.0    10.0 2020-02-26   2020-02-26   \n",
       "2            0.0        58  True    0.0     3.7 2019-08-09   2019-08-19   \n",
       "6           12.0      2567  True    0.0     2.5 2019-09-23   2019-09-27   \n",
       "7           39.0       702  True    0.0    16.0 2019-06-21   2019-06-21   \n",
       "10          55.0       329  True    0.0    51.0 2020-07-30   2020-07-30   \n",
       "\n",
       "   Content Rating  Ad Supported  In App Purchases  Editors Choice  \\\n",
       "0        Everyone         False             False           False   \n",
       "2        Everyone         False             False           False   \n",
       "6        Everyone          True             False           False   \n",
       "7        Everyone         False             False           False   \n",
       "10       Everyone         False             False           False   \n",
       "\n",
       "    Released_Year  Released_Month  Days_Between  Daily_Avg_Installs  \n",
       "0            2020               2             0                15.0  \n",
       "2            2019               8            10                 5.8  \n",
       "6            2019               9             4               641.8  \n",
       "7            2019               6             0               702.0  \n",
       "10           2020               7             0               329.0  "
      ]
     },
     "execution_count": 50,
     "metadata": {},
     "output_type": "execute_result"
    }
   ],
   "source": [
    "df.head()"
   ]
  },
  {
   "cell_type": "code",
   "execution_count": 56,
   "id": "7b8d0e64-fd88-40f4-83ab-9f9f1350a720",
   "metadata": {},
   "outputs": [
    {
     "data": {
      "text/html": [
       "<div>\n",
       "<style scoped>\n",
       "    .dataframe tbody tr th:only-of-type {\n",
       "        vertical-align: middle;\n",
       "    }\n",
       "\n",
       "    .dataframe tbody tr th {\n",
       "        vertical-align: top;\n",
       "    }\n",
       "\n",
       "    .dataframe thead th {\n",
       "        text-align: right;\n",
       "    }\n",
       "</style>\n",
       "<table border=\"1\" class=\"dataframe\">\n",
       "  <thead>\n",
       "    <tr style=\"text-align: right;\">\n",
       "      <th></th>\n",
       "      <th>App Name</th>\n",
       "      <th>App Id</th>\n",
       "      <th>Category</th>\n",
       "      <th>Rating</th>\n",
       "      <th>Rating Count</th>\n",
       "      <th>Installs</th>\n",
       "      <th>Free</th>\n",
       "      <th>Price</th>\n",
       "      <th>Size_M</th>\n",
       "      <th>Released</th>\n",
       "      <th>Last Updated</th>\n",
       "      <th>Content Rating</th>\n",
       "      <th>Ad Supported</th>\n",
       "      <th>In App Purchases</th>\n",
       "      <th>Editors Choice</th>\n",
       "      <th>Released_Year</th>\n",
       "      <th>Released_Month</th>\n",
       "      <th>Days_Between</th>\n",
       "      <th>Daily_Avg_Installs</th>\n",
       "    </tr>\n",
       "  </thead>\n",
       "  <tbody>\n",
       "    <tr>\n",
       "      <th>0</th>\n",
       "      <td>Gakondo</td>\n",
       "      <td>com.ishakwe.gakondo</td>\n",
       "      <td>Adventure</td>\n",
       "      <td>0.0</td>\n",
       "      <td>0.0</td>\n",
       "      <td>15</td>\n",
       "      <td>True</td>\n",
       "      <td>0.0</td>\n",
       "      <td>10.0</td>\n",
       "      <td>2020-02-26</td>\n",
       "      <td>2020-02-26</td>\n",
       "      <td>Everyone</td>\n",
       "      <td>False</td>\n",
       "      <td>False</td>\n",
       "      <td>False</td>\n",
       "      <td>2020</td>\n",
       "      <td>2</td>\n",
       "      <td>0</td>\n",
       "      <td>15.0</td>\n",
       "    </tr>\n",
       "    <tr>\n",
       "      <th>2</th>\n",
       "      <td>Vibook</td>\n",
       "      <td>com.doantiepvien.crm</td>\n",
       "      <td>Productivity</td>\n",
       "      <td>0.0</td>\n",
       "      <td>0.0</td>\n",
       "      <td>58</td>\n",
       "      <td>True</td>\n",
       "      <td>0.0</td>\n",
       "      <td>3.7</td>\n",
       "      <td>2019-08-09</td>\n",
       "      <td>2019-08-19</td>\n",
       "      <td>Everyone</td>\n",
       "      <td>False</td>\n",
       "      <td>False</td>\n",
       "      <td>False</td>\n",
       "      <td>2019</td>\n",
       "      <td>8</td>\n",
       "      <td>10</td>\n",
       "      <td>5.8</td>\n",
       "    </tr>\n",
       "    <tr>\n",
       "      <th>6</th>\n",
       "      <td>unlimited 4G data prank free app</td>\n",
       "      <td>getfreedata.superfatiza.unlimitedjiodataprank</td>\n",
       "      <td>Libraries &amp; Demo</td>\n",
       "      <td>4.5</td>\n",
       "      <td>12.0</td>\n",
       "      <td>2567</td>\n",
       "      <td>True</td>\n",
       "      <td>0.0</td>\n",
       "      <td>2.5</td>\n",
       "      <td>2019-09-23</td>\n",
       "      <td>2019-09-27</td>\n",
       "      <td>Everyone</td>\n",
       "      <td>True</td>\n",
       "      <td>False</td>\n",
       "      <td>False</td>\n",
       "      <td>2019</td>\n",
       "      <td>9</td>\n",
       "      <td>4</td>\n",
       "      <td>641.8</td>\n",
       "    </tr>\n",
       "    <tr>\n",
       "      <th>7</th>\n",
       "      <td>The Everyday Calendar</td>\n",
       "      <td>com.mozaix.simoneboard</td>\n",
       "      <td>Lifestyle</td>\n",
       "      <td>2.0</td>\n",
       "      <td>39.0</td>\n",
       "      <td>702</td>\n",
       "      <td>True</td>\n",
       "      <td>0.0</td>\n",
       "      <td>16.0</td>\n",
       "      <td>2019-06-21</td>\n",
       "      <td>2019-06-21</td>\n",
       "      <td>Everyone</td>\n",
       "      <td>False</td>\n",
       "      <td>False</td>\n",
       "      <td>False</td>\n",
       "      <td>2019</td>\n",
       "      <td>6</td>\n",
       "      <td>0</td>\n",
       "      <td>702.0</td>\n",
       "    </tr>\n",
       "    <tr>\n",
       "      <th>10</th>\n",
       "      <td>Dodge The Cars!</td>\n",
       "      <td>com.MrScratchEnterprises.CarDogeGame</td>\n",
       "      <td>Racing</td>\n",
       "      <td>4.9</td>\n",
       "      <td>55.0</td>\n",
       "      <td>329</td>\n",
       "      <td>True</td>\n",
       "      <td>0.0</td>\n",
       "      <td>51.0</td>\n",
       "      <td>2020-07-30</td>\n",
       "      <td>2020-07-30</td>\n",
       "      <td>Everyone</td>\n",
       "      <td>False</td>\n",
       "      <td>False</td>\n",
       "      <td>False</td>\n",
       "      <td>2020</td>\n",
       "      <td>7</td>\n",
       "      <td>0</td>\n",
       "      <td>329.0</td>\n",
       "    </tr>\n",
       "    <tr>\n",
       "      <th>...</th>\n",
       "      <td>...</td>\n",
       "      <td>...</td>\n",
       "      <td>...</td>\n",
       "      <td>...</td>\n",
       "      <td>...</td>\n",
       "      <td>...</td>\n",
       "      <td>...</td>\n",
       "      <td>...</td>\n",
       "      <td>...</td>\n",
       "      <td>...</td>\n",
       "      <td>...</td>\n",
       "      <td>...</td>\n",
       "      <td>...</td>\n",
       "      <td>...</td>\n",
       "      <td>...</td>\n",
       "      <td>...</td>\n",
       "      <td>...</td>\n",
       "      <td>...</td>\n",
       "      <td>...</td>\n",
       "    </tr>\n",
       "    <tr>\n",
       "      <th>1616616</th>\n",
       "      <td>GeorgeApp LogBook</td>\n",
       "      <td>eu.georgeapp.georgeapplogbook</td>\n",
       "      <td>Sports</td>\n",
       "      <td>0.0</td>\n",
       "      <td>0.0</td>\n",
       "      <td>214</td>\n",
       "      <td>True</td>\n",
       "      <td>0.0</td>\n",
       "      <td>2.2</td>\n",
       "      <td>2018-04-29</td>\n",
       "      <td>2018-04-29</td>\n",
       "      <td>Everyone</td>\n",
       "      <td>False</td>\n",
       "      <td>False</td>\n",
       "      <td>False</td>\n",
       "      <td>2018</td>\n",
       "      <td>4</td>\n",
       "      <td>0</td>\n",
       "      <td>214.0</td>\n",
       "    </tr>\n",
       "    <tr>\n",
       "      <th>1616618</th>\n",
       "      <td>Drawer Super Racer - DRAWING GAME</td>\n",
       "      <td>com.BoomaStudio.DrawerSuperRacer</td>\n",
       "      <td>Arcade</td>\n",
       "      <td>0.0</td>\n",
       "      <td>0.0</td>\n",
       "      <td>15</td>\n",
       "      <td>True</td>\n",
       "      <td>0.0</td>\n",
       "      <td>20.0</td>\n",
       "      <td>2021-03-28</td>\n",
       "      <td>2021-04-06</td>\n",
       "      <td>Everyone</td>\n",
       "      <td>True</td>\n",
       "      <td>False</td>\n",
       "      <td>False</td>\n",
       "      <td>2021</td>\n",
       "      <td>3</td>\n",
       "      <td>9</td>\n",
       "      <td>1.7</td>\n",
       "    </tr>\n",
       "    <tr>\n",
       "      <th>1616622</th>\n",
       "      <td>Bahasa Indonesia Kelas 12 Kurikulum 2013</td>\n",
       "      <td>com.reverdroid.bahasaindonesiakelas12</td>\n",
       "      <td>Books &amp; Reference</td>\n",
       "      <td>4.6</td>\n",
       "      <td>50.0</td>\n",
       "      <td>17423</td>\n",
       "      <td>True</td>\n",
       "      <td>0.0</td>\n",
       "      <td>77.0</td>\n",
       "      <td>2018-08-27</td>\n",
       "      <td>2018-08-28</td>\n",
       "      <td>Everyone</td>\n",
       "      <td>True</td>\n",
       "      <td>False</td>\n",
       "      <td>False</td>\n",
       "      <td>2018</td>\n",
       "      <td>8</td>\n",
       "      <td>1</td>\n",
       "      <td>17423.0</td>\n",
       "    </tr>\n",
       "    <tr>\n",
       "      <th>1616631</th>\n",
       "      <td>Video Voice Changer For Short Video Makers</td>\n",
       "      <td>com.stupendous.videovoice.changer.dp</td>\n",
       "      <td>Video Players &amp; Editors</td>\n",
       "      <td>2.8</td>\n",
       "      <td>120.0</td>\n",
       "      <td>32306</td>\n",
       "      <td>True</td>\n",
       "      <td>0.0</td>\n",
       "      <td>26.0</td>\n",
       "      <td>2020-03-28</td>\n",
       "      <td>2020-03-28</td>\n",
       "      <td>Everyone</td>\n",
       "      <td>True</td>\n",
       "      <td>True</td>\n",
       "      <td>False</td>\n",
       "      <td>2020</td>\n",
       "      <td>3</td>\n",
       "      <td>0</td>\n",
       "      <td>32306.0</td>\n",
       "    </tr>\n",
       "    <tr>\n",
       "      <th>1616634</th>\n",
       "      <td>Expo Generar Pehuajó</td>\n",
       "      <td>ar.com.solucionespsg.expogenerar</td>\n",
       "      <td>Events</td>\n",
       "      <td>5.0</td>\n",
       "      <td>6.0</td>\n",
       "      <td>205</td>\n",
       "      <td>True</td>\n",
       "      <td>0.0</td>\n",
       "      <td>5.7</td>\n",
       "      <td>2018-08-21</td>\n",
       "      <td>2018-09-01</td>\n",
       "      <td>Everyone</td>\n",
       "      <td>True</td>\n",
       "      <td>False</td>\n",
       "      <td>False</td>\n",
       "      <td>2018</td>\n",
       "      <td>8</td>\n",
       "      <td>11</td>\n",
       "      <td>18.6</td>\n",
       "    </tr>\n",
       "  </tbody>\n",
       "</table>\n",
       "<p>600000 rows × 19 columns</p>\n",
       "</div>"
      ],
      "text/plain": [
       "                                           App Name  \\\n",
       "0                                           Gakondo   \n",
       "2                                            Vibook   \n",
       "6                  unlimited 4G data prank free app   \n",
       "7                             The Everyday Calendar   \n",
       "10                                  Dodge The Cars!   \n",
       "...                                             ...   \n",
       "1616616                           GeorgeApp LogBook   \n",
       "1616618           Drawer Super Racer - DRAWING GAME   \n",
       "1616622    Bahasa Indonesia Kelas 12 Kurikulum 2013   \n",
       "1616631  Video Voice Changer For Short Video Makers   \n",
       "1616634                        Expo Generar Pehuajó   \n",
       "\n",
       "                                                App Id  \\\n",
       "0                                  com.ishakwe.gakondo   \n",
       "2                                 com.doantiepvien.crm   \n",
       "6        getfreedata.superfatiza.unlimitedjiodataprank   \n",
       "7                               com.mozaix.simoneboard   \n",
       "10                com.MrScratchEnterprises.CarDogeGame   \n",
       "...                                                ...   \n",
       "1616616                  eu.georgeapp.georgeapplogbook   \n",
       "1616618               com.BoomaStudio.DrawerSuperRacer   \n",
       "1616622          com.reverdroid.bahasaindonesiakelas12   \n",
       "1616631           com.stupendous.videovoice.changer.dp   \n",
       "1616634               ar.com.solucionespsg.expogenerar   \n",
       "\n",
       "                        Category  Rating  Rating Count  Installs  Free  Price  \\\n",
       "0                      Adventure     0.0           0.0        15  True    0.0   \n",
       "2                   Productivity     0.0           0.0        58  True    0.0   \n",
       "6               Libraries & Demo     4.5          12.0      2567  True    0.0   \n",
       "7                      Lifestyle     2.0          39.0       702  True    0.0   \n",
       "10                        Racing     4.9          55.0       329  True    0.0   \n",
       "...                          ...     ...           ...       ...   ...    ...   \n",
       "1616616                   Sports     0.0           0.0       214  True    0.0   \n",
       "1616618                   Arcade     0.0           0.0        15  True    0.0   \n",
       "1616622        Books & Reference     4.6          50.0     17423  True    0.0   \n",
       "1616631  Video Players & Editors     2.8         120.0     32306  True    0.0   \n",
       "1616634                   Events     5.0           6.0       205  True    0.0   \n",
       "\n",
       "         Size_M   Released Last Updated Content Rating  Ad Supported  \\\n",
       "0          10.0 2020-02-26   2020-02-26       Everyone         False   \n",
       "2           3.7 2019-08-09   2019-08-19       Everyone         False   \n",
       "6           2.5 2019-09-23   2019-09-27       Everyone          True   \n",
       "7          16.0 2019-06-21   2019-06-21       Everyone         False   \n",
       "10         51.0 2020-07-30   2020-07-30       Everyone         False   \n",
       "...         ...        ...          ...            ...           ...   \n",
       "1616616     2.2 2018-04-29   2018-04-29       Everyone         False   \n",
       "1616618    20.0 2021-03-28   2021-04-06       Everyone          True   \n",
       "1616622    77.0 2018-08-27   2018-08-28       Everyone          True   \n",
       "1616631    26.0 2020-03-28   2020-03-28       Everyone          True   \n",
       "1616634     5.7 2018-08-21   2018-09-01       Everyone          True   \n",
       "\n",
       "         In App Purchases  Editors Choice  Released_Year  Released_Month  \\\n",
       "0                   False           False           2020               2   \n",
       "2                   False           False           2019               8   \n",
       "6                   False           False           2019               9   \n",
       "7                   False           False           2019               6   \n",
       "10                  False           False           2020               7   \n",
       "...                   ...             ...            ...             ...   \n",
       "1616616             False           False           2018               4   \n",
       "1616618             False           False           2021               3   \n",
       "1616622             False           False           2018               8   \n",
       "1616631              True           False           2020               3   \n",
       "1616634             False           False           2018               8   \n",
       "\n",
       "         Days_Between  Daily_Avg_Installs  \n",
       "0                   0                15.0  \n",
       "2                  10                 5.8  \n",
       "6                   4               641.8  \n",
       "7                   0               702.0  \n",
       "10                  0               329.0  \n",
       "...               ...                 ...  \n",
       "1616616             0               214.0  \n",
       "1616618             9                 1.7  \n",
       "1616622             1             17423.0  \n",
       "1616631             0             32306.0  \n",
       "1616634            11                18.6  \n",
       "\n",
       "[600000 rows x 19 columns]"
      ]
     },
     "execution_count": 56,
     "metadata": {},
     "output_type": "execute_result"
    }
   ],
   "source": [
    "df.iloc[:600000]"
   ]
  },
  {
   "cell_type": "code",
   "execution_count": 58,
   "id": "03c370ff-89fd-486d-97eb-5d945b3c2920",
   "metadata": {},
   "outputs": [],
   "source": [
    "df = df.iloc[:600000]"
   ]
  },
  {
   "cell_type": "code",
   "execution_count": 59,
   "id": "04b4fc08-3d74-439c-988e-5adc4e49b4aa",
   "metadata": {},
   "outputs": [],
   "source": [
    "filepath = Path('Google-Playstore.csv')\n",
    "filepath.parent.mkdir(parents=True, exist_ok=True)\n",
    "df.to_csv(filepath, index=False)"
   ]
  },
  {
   "cell_type": "code",
   "execution_count": null,
   "id": "ceff1511-9be6-4820-a017-a4161bbace28",
   "metadata": {},
   "outputs": [],
   "source": []
  }
 ],
 "metadata": {
  "kernelspec": {
   "display_name": "Python 3 (ipykernel)",
   "language": "python",
   "name": "python3"
  },
  "language_info": {
   "codemirror_mode": {
    "name": "ipython",
    "version": 3
   },
   "file_extension": ".py",
   "mimetype": "text/x-python",
   "name": "python",
   "nbconvert_exporter": "python",
   "pygments_lexer": "ipython3",
   "version": "3.11.5"
  }
 },
 "nbformat": 4,
 "nbformat_minor": 5
}
